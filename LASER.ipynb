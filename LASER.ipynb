{
 "cells": [
  {
   "cell_type": "code",
   "execution_count": 1,
   "metadata": {},
   "outputs": [],
   "source": [
    "import laserembeddings as le\n",
    "import xml.etree.ElementTree as ElementTree\n",
    "from gensim.models.keyedvectors import KeyedVectors\n",
    "import os\n",
    "import pickle\n",
    "import heapq\n",
    "import numpy as np\n",
    "from collections import defaultdict"
   ]
  },
  {
   "cell_type": "code",
   "execution_count": 28,
   "metadata": {},
   "outputs": [],
   "source": [
    "#Stop-words initialization\n",
    "en_stop,hn_stop,bn_stop = [],[],[]\n",
    "f = open('eng_stop_words')\n",
    "for l in f:\n",
    "    en_stop.append(l.strip())\n",
    "f = open('latest_hn_stop_words')\n",
    "for l in f:\n",
    "    hn_stop.append(l.strip())\n",
    "f = open('latest_bn_stop_words')\n",
    "for line in f:\n",
    "    bn_stop.append(line.strip())"
   ]
  },
  {
   "cell_type": "code",
   "execution_count": 4,
   "metadata": {},
   "outputs": [],
   "source": [
    "###English corpus generating as a list of lists(sentence)\n",
    "tot_en=0\n",
    "final_list_eng = []\n",
    "for ids in range(176,226):\n",
    "    for root,dirs,files in os.walk('thesis/rel/'+str(ids)+'/en/'):\n",
    "        for file in files:\n",
    "            file_n = os.path.join(root,file)\n",
    "            with open(file_n,encoding='utf-8') as f:\n",
    "                xml = f.read()\n",
    "            xml = '<ROOT>' + xml + '</ROOT>'\n",
    "            rt = ElementTree.fromstring(xml)\n",
    "            for doc in rt:\n",
    "                l = doc.find('TEXT').text\n",
    "            j = l.split('.')\n",
    "            for i in range(len(j)):\n",
    "                j[i] = ' '.join(j[i].split())\n",
    "                for sym in en_stop:\n",
    "                    if(' '+sym+' ' in j[i]):\n",
    "                        j[i] = j[i].replace(' '+sym+' ',' ')\n",
    "            tot_en+=len(j)\n",
    "            final_list_eng.extend(j)\n",
    "final_list_eng = list(filter(lambda x: len(x)>0, final_list_eng))"
   ]
  },
  {
   "cell_type": "code",
   "execution_count": 5,
   "metadata": {},
   "outputs": [],
   "source": [
    "##Hindi corpus generating as a list of lists(sentence)\n",
    "tot_hn=0\n",
    "final_list_hin = []\n",
    "for ids in range(176,226):\n",
    "    for root,dirs,files in os.walk('thesis/rel/'+str(ids)+'/hn/'):\n",
    "        for file in files:\n",
    "            file_n = os.path.join(root,file)\n",
    "            with open(file_n,encoding='utf-8') as f:\n",
    "                xml = f.read()\n",
    "            xml = '<ROOT>' + xml + '</ROOT>'\n",
    "            rt = ElementTree.fromstring(xml)\n",
    "            for doc in rt:\n",
    "                l = doc.find('TEXT').text\n",
    "            j = l.split('।')\n",
    "            for i in range(len(j)):\n",
    "                j[i] = ' '.join(j[i].split())\n",
    "                for sym in hn_stop:\n",
    "                    if(' '+sym+' ' in j[i]):\n",
    "                        j[i] = j[i].replace(' '+sym+' ',' ')\n",
    "            tot_hn+=len(j)\n",
    "            final_list_hin.extend(j)\n",
    "final_list_hin = list(filter(lambda x: len(x)>0, final_list_hin))"
   ]
  },
  {
   "cell_type": "code",
   "execution_count": 6,
   "metadata": {},
   "outputs": [],
   "source": [
    "##Bengali corpus generating as a list of lists(sentence)\n",
    "tot_bn=0\n",
    "final_list_ben = []\n",
    "for ids in range(176,226):\n",
    "    for root,dirs,files in os.walk('thesis/rel/'+str(ids)+'/bn/'):\n",
    "        for file in files:\n",
    "            file_n = os.path.join(root,file)\n",
    "            with open(file_n,encoding='utf-8') as f:\n",
    "                xml = f.read()\n",
    "            xml = '<ROOT>' + xml + '</ROOT>'\n",
    "            rt = ElementTree.fromstring(xml)\n",
    "            for doc in rt:\n",
    "                l = doc.find('TEXT').text\n",
    "            j = l.split('।')\n",
    "            for i in range(len(j)):\n",
    "                j[i] = ' '.join(j[i].split())\n",
    "                for sym in bn_stop:\n",
    "                    if(' '+sym+' ' in j[i]):\n",
    "                        j[i] = j[i].replace(' '+sym+' ',' ')\n",
    "            tot_bn+=len(j)\n",
    "            final_list_ben.extend(j)\n",
    "final_list_ben = list(filter(lambda x: len(x)>0, final_list_ben))"
   ]
  },
  {
   "cell_type": "code",
   "execution_count": 7,
   "metadata": {},
   "outputs": [],
   "source": [
    "final = final_list_eng + final_list_hin + final_list_ben"
   ]
  },
  {
   "cell_type": "code",
   "execution_count": 27,
   "metadata": {},
   "outputs": [],
   "source": [
    "##These are just queries in different languages\n",
    "e = []\n",
    "h = []\n",
    "b = []\n",
    "for i in range(5):\n",
    "    f = open('e_q_'+str(i),'rb')\n",
    "    curr = pickle.load(f)\n",
    "    e.append(curr)\n",
    "    f = open('h_q_'+str(i),'rb')\n",
    "    curr = pickle.load(f)\n",
    "    h.append(curr)\n",
    "    f = open('b_q_'+str(i),'rb')\n",
    "    curr = pickle.load(f)\n",
    "    b.append(curr)"
   ]
  },
  {
   "cell_type": "code",
   "execution_count": 29,
   "metadata": {},
   "outputs": [],
   "source": [
    "#Language indicators to pass to laser for tokenization\n",
    "langs = []\n",
    "for i in range(len(final_list_eng)):\n",
    "    langs.append('en')\n",
    "for i in range(len(final_list_hin)):\n",
    "    langs.append('hi')\n",
    "for i in range(len(final_list_ben)):\n",
    "    langs.append('bn')"
   ]
  },
  {
   "cell_type": "code",
   "execution_count": 11,
   "metadata": {},
   "outputs": [],
   "source": [
    "#Embeddings generations and transforming them to KeyedVectors for computing similarity\n",
    "laser = le.Laser()\n",
    "embeddings = laser.embed_sentences(final,lang=langs)\n",
    "# lang_based_keys = [sent for sent in new_sent]\n",
    "# sent_vec = KeyedVectors(vector_size=embeddings.shape[1])\n",
    "# sent_vec.add(lang_based_keys,embeddings)"
   ]
  },
  {
   "cell_type": "code",
   "execution_count": 14,
   "metadata": {},
   "outputs": [],
   "source": [
    "Lang_based_keys = [sent for sent in final]\n",
    "sent_vecs = KeyedVectors(vector_size=embeddings.shape[1])\n",
    "sent_vecs.add(Lang_based_keys,embeddings)"
   ]
  },
  {
   "cell_type": "code",
   "execution_count": 368,
   "metadata": {},
   "outputs": [],
   "source": [
    "query_1 = ' '.join(e[0][9])\n",
    "query_2 = ' '.join(h[0][9])"
   ]
  },
  {
   "cell_type": "code",
   "execution_count": 30,
   "metadata": {},
   "outputs": [],
   "source": [
    "# def check(curr_sim_words,topic_sim,tar_word,total_words_rqd):\n",
    "#     heapq.heappush(curr_sim_words,(topic_sim,tar_word))\n",
    "#     while(len(curr_sim_words)>total_words_rqd):\n",
    "#         heapq.heappop(curr_sim_words)\n",
    "#     return curr_sim_words"
   ]
  },
  {
   "cell_type": "code",
   "execution_count": 15,
   "metadata": {},
   "outputs": [
    {
     "data": {
      "text/plain": [
       "0.5275185124360704"
      ]
     },
     "execution_count": 15,
     "metadata": {},
     "output_type": "execute_result"
    }
   ],
   "source": [
    "a = 'एपल आईपॉड टच एपल वाइडस्क्रीन मीडियाप्लेयर है'\n",
    "b = 'The iPhone SDK, set programming tools developers, enhanced support development iPad'\n",
    "# sent_vecs.similarity(a,b)\n",
    "vec_a = sent_vecs[a]\n",
    "vec_b = sent_vecs[b]\n",
    "dot = np.dot(vec_a,vec_b)\n",
    "norm_a = np.linalg.norm(sent_vecs[a])\n",
    "norm_b = np.linalg.norm(sent_vecs[b])\n",
    "denom = norm_a*norm_b\n",
    "cos = dot/denom\n",
    "cos"
   ]
  },
  {
   "cell_type": "code",
   "execution_count": 16,
   "metadata": {},
   "outputs": [
    {
     "data": {
      "text/plain": [
       "[('Poborsky played minutes, 291 minutes, Czech Republic Euro 2004', 1.0),\n",
       " ('Karel Poborsky, 98 caps, Czech player reach century caps Euro 2004 provided nation reaches final plays matches',\n",
       "  0.7240390181541443),\n",
       " ('Eriksson delivered Beckham floppedSadly Germany Italy, players feature sought-after bunch Euro 2004',\n",
       "  0.7213137149810791),\n",
       " ('Cocu, Jaap Stam, Giovanni van Bronckhorst Edwin van der Sar played minute countrys Euro 2004 matches',\n",
       "  0.7212564945220947),\n",
       " ('In one-day internationals year, Yuvraj managed 96 runs, 74 coming match Sri Lanka Dhaka',\n",
       "  0.7157318592071533),\n",
       " ('Desailly, turn 36 September, 222 appearances years Chelsea',\n",
       "  0.7156385183334351),\n",
       " ('With goals Euro 2004, Ruud van Nistelrooy joint-second scorers list goal Czech Republics Milan Baros',\n",
       "  0.7155148983001709),\n",
       " ('In Palermo, superb 89th-minute goal Tomas Rosicky gave Czech Republic 2-2 draw Italy',\n",
       "  0.7111214995384216),\n",
       " ('In major currency shift introduction Cyprus pound British colonial rulers 1878, Cyprus joined euro zone hour Malta, Mediterranean island joined European Union 2004',\n",
       "  0.7097789645195007),\n",
       " ('Yuvraj Singh punishing Aussies Nairobi October 7, 2000 Man Match: Yuvraj',\n",
       "  0.7093333601951599)]"
      ]
     },
     "execution_count": 16,
     "metadata": {},
     "output_type": "execute_result"
    }
   ],
   "source": [
    "sent_vecs.similar_by_vector(vec_b)"
   ]
  },
  {
   "cell_type": "code",
   "execution_count": 19,
   "metadata": {},
   "outputs": [
    {
     "data": {
      "text/plain": [
       "0.45118295308025186"
      ]
     },
     "execution_count": 19,
     "metadata": {},
     "output_type": "execute_result"
    }
   ],
   "source": [
    "d = 'Poborsky played minutes, 291 minutes, Czech Republic Euro 2004'\n",
    "sent_vecs.similarity(b,d)"
   ]
  },
  {
   "cell_type": "code",
   "execution_count": 23,
   "metadata": {},
   "outputs": [
    {
     "name": "stdout",
     "output_type": "stream",
     "text": [
      "3.8.1\n"
     ]
    }
   ],
   "source": [
    "import gensim\n",
    "print(gensim.__version__)"
   ]
  },
  {
   "cell_type": "code",
   "execution_count": 25,
   "metadata": {},
   "outputs": [
    {
     "name": "stdout",
     "output_type": "stream",
     "text": [
      "-\n",
      "197659\n",
      "72687\n",
      "77492\n",
      "--\n",
      "[('\" prelude unexpected', 0.7080280184745789), ('Bhagavathy Seva 6', 0.6976345777511597), ('Two unharmed', 0.6953473687171936)]\n",
      "[('\"It\\'s undulating 5', 0.9999999403953552), ('\" prelude unexpected', 0.7080280184745789), ('Bhagavathy Seva 6', 0.6976345777511597)]\n",
      "---\n",
      "[('Karel Poborsky, 98 caps, Czech player reach century caps Euro 2004 provided nation reaches final plays matches', 0.7240390181541443), ('Eriksson delivered Beckham floppedSadly Germany Italy, players feature sought-after bunch Euro 2004', 0.7213137149810791), ('Cocu, Jaap Stam, Giovanni van Bronckhorst Edwin van der Sar played minute countrys Euro 2004 matches', 0.7212564945220947)]\n",
      "[('Poborsky played minutes, 291 minutes, Czech Republic Euro 2004', 1.0), ('Karel Poborsky, 98 caps, Czech player reach century caps Euro 2004 provided nation reaches final plays matches', 0.7240390181541443), ('Eriksson delivered Beckham floppedSadly Germany Italy, players feature sought-after bunch Euro 2004', 0.7213137149810791)]\n",
      "----\n",
      "0.45118295308025186\n",
      "-----\n"
     ]
    }
   ],
   "source": [
    "pob_sent = 'Poborsky played minutes, 291 minutes, Czech Republic Euro 2004'\n",
    "iphone_sent = 'The iPhone SDK, set programming tools developers, enhanced support development iPad'\n",
    "print('-')\n",
    "print(len(sent_vecs.vocab))\n",
    "print(sent_vecs.vocab[pob_sent].index)\n",
    "print(sent_vecs.vocab[iphone_sent].index)\n",
    "print('--')\n",
    "print(sent_vecs.most_similar(pob_sent, topn=3))\n",
    "print(sent_vecs.similar_by_vector(sent_vecs[pob_sent], topn=3))\n",
    "print('---')\n",
    "print(sent_vecs.most_similar(iphone_sent, topn=3))\n",
    "print(sent_vecs.similar_by_vector(sent_vecs[iphone_sent], topn=3))\n",
    "print('----')\n",
    "print(sent_vecs.similarity(pob_sent, iphone_sent))\n",
    "print('-----')"
   ]
  },
  {
   "cell_type": "code",
   "execution_count": 20,
   "metadata": {},
   "outputs": [
    {
     "data": {
      "text/plain": [
       "[('\"It\\'s undulating 5', 0.9999999403953552),\n",
       " ('\" prelude unexpected', 0.7080280184745789),\n",
       " ('Bhagavathy Seva 6', 0.6976345777511597),\n",
       " ('Two unharmed', 0.6953473687171936),\n",
       " ('\"The IMF provide 5', 0.6893535852432251),\n",
       " ('The decadal rise 2', 0.6862850189208984),\n",
       " ('It painstaking work', 0.6851921081542969),\n",
       " ('But Dibu unduly concerned', 0.6760345697402954),\n",
       " ('The offensive sparked exodus 2', 0.672282338142395),\n",
       " (\"It's cauldron\", 0.6628783941268921)]"
      ]
     },
     "execution_count": 20,
     "metadata": {},
     "output_type": "execute_result"
    }
   ],
   "source": [
    "d = 'Poborsky played minutes, 291 minutes, Czech Republic Euro 2004'\n",
    "vec_d = sent_vecs[d]\n",
    "sent_vecs.similar_by_vector(vec_d)"
   ]
  },
  {
   "cell_type": "code",
   "execution_count": 21,
   "metadata": {},
   "outputs": [
    {
     "data": {
      "text/plain": [
       "[('Poborsky played minutes, 291 minutes, Czech Republic Euro 2004', 1.0),\n",
       " ('Karel Poborsky, 98 caps, Czech player reach century caps Euro 2004 provided nation reaches final plays matches',\n",
       "  0.7240390181541443),\n",
       " ('Eriksson delivered Beckham floppedSadly Germany Italy, players feature sought-after bunch Euro 2004',\n",
       "  0.7213137149810791),\n",
       " ('Cocu, Jaap Stam, Giovanni van Bronckhorst Edwin van der Sar played minute countrys Euro 2004 matches',\n",
       "  0.7212564945220947),\n",
       " ('In one-day internationals year, Yuvraj managed 96 runs, 74 coming match Sri Lanka Dhaka',\n",
       "  0.7157318592071533),\n",
       " ('Desailly, turn 36 September, 222 appearances years Chelsea',\n",
       "  0.7156385183334351),\n",
       " ('With goals Euro 2004, Ruud van Nistelrooy joint-second scorers list goal Czech Republics Milan Baros',\n",
       "  0.7155148983001709),\n",
       " ('In Palermo, superb 89th-minute goal Tomas Rosicky gave Czech Republic 2-2 draw Italy',\n",
       "  0.7111214995384216),\n",
       " ('In major currency shift introduction Cyprus pound British colonial rulers 1878, Cyprus joined euro zone hour Malta, Mediterranean island joined European Union 2004',\n",
       "  0.7097789645195007),\n",
       " ('Yuvraj Singh punishing Aussies Nairobi October 7, 2000 Man Match: Yuvraj',\n",
       "  0.7093333601951599)]"
      ]
     },
     "execution_count": 21,
     "metadata": {},
     "output_type": "execute_result"
    }
   ],
   "source": [
    "sent_vecs.similar_by_vector(vec_b)"
   ]
  },
  {
   "cell_type": "code",
   "execution_count": 516,
   "metadata": {},
   "outputs": [],
   "source": [
    "# vv = sent_vecs['एपल आईपॉड टच एपल वाइडस्क्रीन मीडियाप्लेयर है']\n",
    "# print(vv)\n",
    "# print(n_e[0])\n",
    "# cos = np.dot(vv,n_e[0])/(np.linalg.norm(vv)*np.linalg.norm(n_e[0]))\n",
    "# cos"
   ]
  },
  {
   "cell_type": "code",
   "execution_count": 532,
   "metadata": {},
   "outputs": [],
   "source": [
    "eng_sent_dict,hin_sent_dict,ben_sent_dict = {},{},{}\n",
    "for sent in final_list_eng:\n",
    "    eng_sent_dict[sent]=1\n",
    "for sent in final_list_hin:\n",
    "    hin_sent_dict[sent]=1\n",
    "for sent in final_list_ben:\n",
    "    ben_sent_dict[sent]=1"
   ]
  },
  {
   "cell_type": "code",
   "execution_count": 31,
   "metadata": {},
   "outputs": [],
   "source": [
    "# def create_queries(fold,queries,src_lang,tar_dict):\n",
    "#     f = open('fold_test_set_2012','rb')\n",
    "#     test_set = pickle.load(f)\n",
    "#     test_qry = test_set[fold]\n",
    "#     f.close()   \n",
    "#     j=0\n",
    "#     st = '<topics>\\n'\n",
    "#     for sent in queries:\n",
    "#         qry = ' '.join(sent)\n",
    "#         new_e = laser.embed_sentences([qry],lang=src_lang)\n",
    "#         ret = sent_vecs.similar_by_vector(new_e[0],topn=5000)\n",
    "#         similar_sent = find_similar(ret,tar_dict)\n",
    "# #         print(similar_sent)\n",
    "#         tp = '<top>\\n'\n",
    "#         nm = '<num>' + str(test_qry[j]) + '</num>\\n'\n",
    "#         try:\n",
    "#             ttle = '<title>' + similar_sent + '</title>\\n'\n",
    "#         except TypeError:\n",
    "#             print('nothing found for ',qry)\n",
    "#         tp_end = '</top>\\n'\n",
    "#         st+=(tp+nm+ttle+tp_end)\n",
    "#         j+=1\n",
    "#     st+='</topics>'\n",
    "#     return st"
   ]
  },
  {
   "cell_type": "code",
   "execution_count": 32,
   "metadata": {},
   "outputs": [],
   "source": [
    "# def save(s,folds,src,tar):\n",
    "#     f = open('Desktop/Laser/topic/'+str(folds)+'_'+src+'_'+tar,'w')\n",
    "#     f.write(s)\n",
    "#     f.close()"
   ]
  },
  {
   "cell_type": "code",
   "execution_count": 33,
   "metadata": {},
   "outputs": [],
   "source": [
    "# for folds in range(5):\n",
    "#     s = create_queries(folds,e[folds],'en',hin_sent_dict)\n",
    "#     save(s,folds,'en','hi')\n",
    "#     s = create_queries(folds,e[folds],'en',ben_sent_dict)\n",
    "#     save(s,folds,'en','bn')\n",
    "#     s = create_queries(folds,h[folds],'hi',eng_sent_dict)\n",
    "#     save(s,folds,'hi','en')\n",
    "#     s = create_queries(folds,h[folds],'hi',ben_sent_dict)\n",
    "#     save(s,folds,'hi','bn')\n",
    "#     s = create_queries(folds,b[folds],'bn',eng_sent_dict)\n",
    "#     save(s,folds,'bn','en')\n",
    "#     s = create_queries(folds,b[folds],'bn',hin_sent_dict)\n",
    "#     save(s,folds,'bn','hi')"
   ]
  },
  {
   "cell_type": "code",
   "execution_count": 40,
   "metadata": {},
   "outputs": [],
   "source": [
    "# terrier_en = 'terrier-core_en/'\n",
    "# terrier_hn = 'terrier-core_hn/'\n",
    "# terrier_bn = 'terrier-core_bn/'"
   ]
  },
  {
   "cell_type": "code",
   "execution_count": 39,
   "metadata": {},
   "outputs": [],
   "source": [
    "# def save_ret(fold,src,tar,terrier_loc):\n",
    "#     os.system('cp '+terrier_loc+'var/results/DPH_0.res Desktop/Laser/ret/'+str(fold)+'_'+src+'_'+tar)\n",
    "#     os.system('rm -r '+terrier_loc+'var/results/*')"
   ]
  },
  {
   "cell_type": "code",
   "execution_count": 38,
   "metadata": {},
   "outputs": [],
   "source": [
    "# def create_ret(fold):\n",
    "#     for lang in ['en','hi','bn']:\n",
    "#         if(lang=='en'):\n",
    "#             src_1 = 'hi'\n",
    "#             src_2 = 'bn'\n",
    "#             terrier_loc = terrier_en\n",
    "#         elif(lang=='hi'):\n",
    "#             src_1 = 'en'\n",
    "#             src_2 = 'bn'\n",
    "#             terrier_loc = terrier_hn\n",
    "#         else:\n",
    "#             src_1 = 'en'\n",
    "#             src_2 = 'hi'\n",
    "#             terrier_loc = terrier_bn\n",
    "#         f_1 = 'Desktop/Laser/topic/'+str(fold)+'_'+src_1+'_'+lang\n",
    "#         os.system(terrier_loc+'bin/terrier batchretrieval -t '+f_1)\n",
    "#         save_ret(fold,src_1,lang,terrier_loc)\n",
    "#         print(fold,src_1,lang,' done ')\n",
    "#         f_2 = 'Desktop/Laser/topic/'+str(fold)+'_'+src_2+'_'+lang\n",
    "#         os.system(terrier_loc+'bin/terrier batchretrieval -t '+f_2)\n",
    "#         save_ret(fold,src_2,lang,terrier_loc)\n",
    "#         print(fold,src_2,lang,' done ')"
   ]
  },
  {
   "cell_type": "code",
   "execution_count": 37,
   "metadata": {},
   "outputs": [],
   "source": [
    "# def remove_dupli(file_name,fold,src,tar):    \n",
    "#     d = defaultdict(list)\n",
    "#     f = open(file_name)\n",
    "#     for line in f:\n",
    "#         lst = line.split()\n",
    "#         d[lst[0]].append([lst[1],lst[2],lst[4],lst[5]])\n",
    "#     st = ''\n",
    "#     for x in d:\n",
    "#         temp = {}\n",
    "#         i=0\n",
    "#         for lst in d[str(x)]:\n",
    "#             if(lst[1] in temp):\n",
    "#                 continue\n",
    "#             temp[lst[1]]=1\n",
    "#             t = str(x)+' '+lst[0]+' '+lst[1]+' '+str(i)+' '+lst[2]+' '+lst[3]+'\\n'\n",
    "#             st+=t\n",
    "#             i+=1\n",
    "#     f = open('Desktop/Laser/dupli_removed/'+str(fold)+'_'+src+'_'+tar,'w')\n",
    "#     f.write(st)"
   ]
  },
  {
   "cell_type": "code",
   "execution_count": 36,
   "metadata": {},
   "outputs": [],
   "source": [
    "# def create_map(fold):\n",
    "#     for lang in ['en','hi','bn']:\n",
    "#         if(lang=='en'):\n",
    "#             src_1 = 'hi'\n",
    "#             src_2 = 'bn'\n",
    "#             terrier_loc = terrier_en\n",
    "#             rel_file = 'thesis/qrels/en.qrels.176-225.2012-v2.txt'\n",
    "#         elif(lang=='hi'):\n",
    "#             src_1 = 'en'\n",
    "#             src_2 = 'bn'\n",
    "#             terrier_loc = terrier_hn\n",
    "#             rel_file = 'thesis/qrels/hi.qrels.176-225.2012-v2.txt'\n",
    "#         else:\n",
    "#             src_1 = 'en'\n",
    "#             src_2 = 'hi'\n",
    "#             terrier_loc = terrier_bn\n",
    "#             rel_file = 'thesis/qrels/bn.qrels.176-225.2012-v2.txt'\n",
    "#         f_1_old = 'Desktop/Laser/ret/'+str(fold)+'_'+src_1+'_'+lang\n",
    "#         remove_dupli(f_1_old,fold,src_1,lang)\n",
    "#         f_1_new = 'Desktop/Laser/dupli_removed/'+str(fold)+'_'+src_1+'_'+lang\n",
    "#         os.system('trec_eval/trec_eval -q '+rel_file+' '+f_1_new+' > Desktop/Laser/map/'+str(fold)+'_'+src_1+'_'+lang)\n",
    "#         f_2_old = 'Desktop/Laser/ret/'+str(fold)+'_'+src_2+'_'+lang\n",
    "#         remove_dupli(f_2_old,fold,src_2,lang)\n",
    "#         f_2_new = 'Desktop/Laser/dupli_removed/'+str(fold)+'_'+src_2+'_'+lang\n",
    "#         os.system('trec_eval/trec_eval -q '+rel_file+' '+f_2_new+' > Desktop/Laser/map/'+str(fold)+'_'+src_2+'_'+lang)"
   ]
  },
  {
   "cell_type": "code",
   "execution_count": 35,
   "metadata": {},
   "outputs": [],
   "source": [
    "# for folds in range(5):\n",
    "#     create_map(folds)"
   ]
  },
  {
   "cell_type": "code",
   "execution_count": 34,
   "metadata": {},
   "outputs": [],
   "source": [
    "# st = ''\n",
    "# fold=4\n",
    "# config=''\n",
    "# st+=',,'+config+'\\n'\n",
    "# print('\\t\\t\\tMAP\\tBpref')\n",
    "# st+=',MAP,Bpref\\n'\n",
    "# for lang in ['en','hi','bn']:\n",
    "#     if(lang=='en'):\n",
    "#         tar_1 = 'hi'\n",
    "#         tar_2 = 'bn'\n",
    "#     elif(lang=='hi'):\n",
    "#         tar_1 = 'en'\n",
    "#         tar_2 = 'bn'\n",
    "#     else:\n",
    "#         tar_1 = 'en'\n",
    "#         tar_2 = 'hi'\n",
    "#     file_1 = 'Desktop/Laser/map/'+str(fold)+'_'+lang+'_'+tar_1\n",
    "#     f = open(file_1)\n",
    "#     for line in f:\n",
    "#         spl = line.split()\n",
    "#         if(spl[1]=='all' and spl[0]=='map'):\n",
    "#             c_map_1 = spl[2]\n",
    "#         if(spl[1]=='all' and spl[0]=='bpref'):\n",
    "#             c_bpref_1 = spl[2]\n",
    "#     f.close()\n",
    "#     print(lang+'->'+tar_1,'\\t',c_map_1,'\\t',c_bpref_1)\n",
    "#     st+=lang+'->'+tar_1+','+c_map_1+','+c_bpref_1+'\\n'\n",
    "#     file_2 = 'Desktop/Laser/map/'+str(fold)+'_'+lang+'_'+tar_2\n",
    "#     f = open(file_2)\n",
    "#     for line in f:\n",
    "#         spl = line.split()\n",
    "#         if(spl[1]=='all' and spl[0]=='map'):\n",
    "#             c_map_2 = spl[2]\n",
    "#         if(spl[1]=='all' and spl[0]=='bpref'):\n",
    "#             c_bpref_2 = spl[2]\n",
    "#     f.close()\n",
    "#     print(lang+'->'+tar_2,'\\t',c_map_2,'\\t',c_bpref_2)\n",
    "#     st+=lang+'->'+tar_2+','+c_map_2+','+c_bpref_2+'\\n'"
   ]
  },
  {
   "cell_type": "code",
   "execution_count": null,
   "metadata": {},
   "outputs": [],
   "source": []
  }
 ],
 "metadata": {
  "kernelspec": {
   "display_name": "Python 3",
   "language": "python",
   "name": "python3"
  },
  "language_info": {
   "codemirror_mode": {
    "name": "ipython",
    "version": 3
   },
   "file_extension": ".py",
   "mimetype": "text/x-python",
   "name": "python",
   "nbconvert_exporter": "python",
   "pygments_lexer": "ipython3",
   "version": "3.6.9"
  }
 },
 "nbformat": 4,
 "nbformat_minor": 2
}
